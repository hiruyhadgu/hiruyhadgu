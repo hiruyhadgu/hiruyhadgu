{
 "cells": [
  {
   "cell_type": "code",
   "execution_count": 96,
   "id": "7087edbd",
   "metadata": {},
   "outputs": [],
   "source": [
    "import pandas as pd\n",
    "import os\n",
    "import numpy as np"
   ]
  },
  {
   "cell_type": "code",
   "execution_count": 144,
   "id": "58ae9056",
   "metadata": {},
   "outputs": [],
   "source": [
    "foldername = 'D1'\n",
    "data_file_folder = f'./{foldername}'\n",
    "df = []\n",
    "\n",
    "for file in os.listdir(data_file_folder):\n",
    "    if file.endswith('.xlsx'):\n",
    "        sheet_name, extension = file.split('.')\n",
    "        file = f'{data_file_folder}/{file}'\n",
    "        df.append(pd.read_excel(file, sheet_name = sheet_name, usecols = 'A:J'))\n",
    "df_master = pd.concat(df, axis=0)"
   ]
  },
  {
   "cell_type": "code",
   "execution_count": 145,
   "id": "daa775db",
   "metadata": {
    "scrolled": false
   },
   "outputs": [
    {
     "data": {
      "text/html": [
       "<div>\n",
       "<style scoped>\n",
       "    .dataframe tbody tr th:only-of-type {\n",
       "        vertical-align: middle;\n",
       "    }\n",
       "\n",
       "    .dataframe tbody tr th {\n",
       "        vertical-align: top;\n",
       "    }\n",
       "\n",
       "    .dataframe thead th {\n",
       "        text-align: right;\n",
       "    }\n",
       "</style>\n",
       "<table border=\"1\" class=\"dataframe\">\n",
       "  <thead>\n",
       "    <tr style=\"text-align: right;\">\n",
       "      <th></th>\n",
       "      <th>Receiving Committee</th>\n",
       "      <th>Filing Period</th>\n",
       "      <th>Contribution Date</th>\n",
       "      <th>Contributor Name</th>\n",
       "      <th>Contributor Address</th>\n",
       "      <th>Contributor Type</th>\n",
       "      <th>Contribution Type</th>\n",
       "      <th>Contribution Amount</th>\n",
       "      <th>Employer Name</th>\n",
       "      <th>Employer Occupation</th>\n",
       "    </tr>\n",
       "  </thead>\n",
       "  <tbody>\n",
       "    <tr>\n",
       "      <th>0</th>\n",
       "      <td>Walsh, Liz (Elizabeth) for Howard County</td>\n",
       "      <td>2022 Gubernatorial Pre-Primary1</td>\n",
       "      <td>2022-05-03</td>\n",
       "      <td>Ponnuri, Sunita</td>\n",
       "      <td>4616 Broken Lute Way,Howard, Ellicott City, MD...</td>\n",
       "      <td>Individual - Matching fund request</td>\n",
       "      <td>Check</td>\n",
       "      <td>50.00</td>\n",
       "      <td>NaN</td>\n",
       "      <td>NaN</td>\n",
       "    </tr>\n",
       "    <tr>\n",
       "      <th>1</th>\n",
       "      <td>Walsh, Liz (Elizabeth) for Howard County</td>\n",
       "      <td>2022 Gubernatorial Pre-Primary1</td>\n",
       "      <td>2022-05-13</td>\n",
       "      <td>Beck, Claudia</td>\n",
       "      <td>9746 Gingerwood Drive,Howard, Ellicott City, M...</td>\n",
       "      <td>Individual - Matching fund request</td>\n",
       "      <td>Credit Card</td>\n",
       "      <td>250.00</td>\n",
       "      <td>NaN</td>\n",
       "      <td>NaN</td>\n",
       "    </tr>\n",
       "    <tr>\n",
       "      <th>2</th>\n",
       "      <td>Walsh, Liz (Elizabeth) for Howard County</td>\n",
       "      <td>2022 Gubernatorial Pre-Primary1</td>\n",
       "      <td>2022-05-23</td>\n",
       "      <td>Boyter, Angie</td>\n",
       "      <td>3914 MACALPINE RD,Howard, Ellicott City, MD 21042</td>\n",
       "      <td>Individual - Matching fund request</td>\n",
       "      <td>Credit Card</td>\n",
       "      <td>250.00</td>\n",
       "      <td>NaN</td>\n",
       "      <td>NaN</td>\n",
       "    </tr>\n",
       "    <tr>\n",
       "      <th>3</th>\n",
       "      <td>Walsh, Liz (Elizabeth) for Howard County</td>\n",
       "      <td>2022 Gubernatorial Pre-Primary1</td>\n",
       "      <td>2022-05-15</td>\n",
       "      <td>Callens, Laura</td>\n",
       "      <td>2960 Normandy Dr,Howard, Ellicott City, MD 21043</td>\n",
       "      <td>Individual - Matching fund request</td>\n",
       "      <td>Credit Card</td>\n",
       "      <td>5.00</td>\n",
       "      <td>NaN</td>\n",
       "      <td>NaN</td>\n",
       "    </tr>\n",
       "    <tr>\n",
       "      <th>4</th>\n",
       "      <td>Walsh, Liz (Elizabeth) for Howard County</td>\n",
       "      <td>2022 Gubernatorial Pre-Primary1</td>\n",
       "      <td>2022-05-13</td>\n",
       "      <td>Greco, Megan</td>\n",
       "      <td>11320 Cotswold Spring Farm Lane,Howard, Ellico...</td>\n",
       "      <td>Individual - Matching fund request</td>\n",
       "      <td>Credit Card</td>\n",
       "      <td>103.45</td>\n",
       "      <td>NaN</td>\n",
       "      <td>NaN</td>\n",
       "    </tr>\n",
       "  </tbody>\n",
       "</table>\n",
       "</div>"
      ],
      "text/plain": [
       "                        Receiving Committee                    Filing Period  \\\n",
       "0  Walsh, Liz (Elizabeth) for Howard County  2022 Gubernatorial Pre-Primary1   \n",
       "1  Walsh, Liz (Elizabeth) for Howard County  2022 Gubernatorial Pre-Primary1   \n",
       "2  Walsh, Liz (Elizabeth) for Howard County  2022 Gubernatorial Pre-Primary1   \n",
       "3  Walsh, Liz (Elizabeth) for Howard County  2022 Gubernatorial Pre-Primary1   \n",
       "4  Walsh, Liz (Elizabeth) for Howard County  2022 Gubernatorial Pre-Primary1   \n",
       "\n",
       "  Contribution Date Contributor Name  \\\n",
       "0        2022-05-03  Ponnuri, Sunita   \n",
       "1        2022-05-13    Beck, Claudia   \n",
       "2        2022-05-23    Boyter, Angie   \n",
       "3        2022-05-15   Callens, Laura   \n",
       "4        2022-05-13     Greco, Megan   \n",
       "\n",
       "                                 Contributor Address  \\\n",
       "0  4616 Broken Lute Way,Howard, Ellicott City, MD...   \n",
       "1  9746 Gingerwood Drive,Howard, Ellicott City, M...   \n",
       "2  3914 MACALPINE RD,Howard, Ellicott City, MD 21042   \n",
       "3   2960 Normandy Dr,Howard, Ellicott City, MD 21043   \n",
       "4  11320 Cotswold Spring Farm Lane,Howard, Ellico...   \n",
       "\n",
       "                     Contributor Type Contribution Type  Contribution Amount  \\\n",
       "0  Individual - Matching fund request             Check                50.00   \n",
       "1  Individual - Matching fund request       Credit Card               250.00   \n",
       "2  Individual - Matching fund request       Credit Card               250.00   \n",
       "3  Individual - Matching fund request       Credit Card                 5.00   \n",
       "4  Individual - Matching fund request       Credit Card               103.45   \n",
       "\n",
       "  Employer Name Employer Occupation  \n",
       "0           NaN                 NaN  \n",
       "1           NaN                 NaN  \n",
       "2           NaN                 NaN  \n",
       "3           NaN                 NaN  \n",
       "4           NaN                 NaN  "
      ]
     },
     "execution_count": 145,
     "metadata": {},
     "output_type": "execute_result"
    }
   ],
   "source": [
    "df_master.head()"
   ]
  },
  {
   "cell_type": "code",
   "execution_count": 146,
   "id": "2ed09a0d",
   "metadata": {},
   "outputs": [
    {
     "name": "stdout",
     "output_type": "stream",
     "text": [
      "<class 'pandas.core.frame.DataFrame'>\n",
      "Int64Index: 592 entries, 0 to 116\n",
      "Data columns (total 10 columns):\n",
      " #   Column               Non-Null Count  Dtype         \n",
      "---  ------               --------------  -----         \n",
      " 0   Receiving Committee  592 non-null    object        \n",
      " 1   Filing Period        592 non-null    object        \n",
      " 2   Contribution Date    592 non-null    datetime64[ns]\n",
      " 3   Contributor Name     592 non-null    object        \n",
      " 4   Contributor Address  592 non-null    object        \n",
      " 5   Contributor Type     592 non-null    object        \n",
      " 6   Contribution Type    592 non-null    object        \n",
      " 7   Contribution Amount  592 non-null    float64       \n",
      " 8   Employer Name        220 non-null    object        \n",
      " 9   Employer Occupation  288 non-null    object        \n",
      "dtypes: datetime64[ns](1), float64(1), object(8)\n",
      "memory usage: 50.9+ KB\n"
     ]
    }
   ],
   "source": [
    "df_master.info()"
   ]
  },
  {
   "cell_type": "code",
   "execution_count": 147,
   "id": "c78538e8",
   "metadata": {},
   "outputs": [],
   "source": [
    "candidate_name = df_master['Receiving Committee'].unique().tolist()\n",
    "donor_name = df_master['Contributor Name'].unique().tolist()\n",
    "contributions = df_master['Contribution Amount'].unique().tolist()\n",
    "filing_period = df_master['Filing Period'].unique().tolist()"
   ]
  },
  {
   "cell_type": "code",
   "execution_count": 148,
   "id": "d8e29ddf",
   "metadata": {},
   "outputs": [],
   "source": [
    "mask=df_master['Receiving Committee'].isin(candidate_name)\n",
    "## mask2 = df_master['Contributor Name'].isin(donor_name)"
   ]
  },
  {
   "cell_type": "code",
   "execution_count": null,
   "id": "105f97e3",
   "metadata": {},
   "outputs": [],
   "source": []
  },
  {
   "cell_type": "code",
   "execution_count": 149,
   "id": "ec6a3f33",
   "metadata": {},
   "outputs": [],
   "source": [
    "df_contribution_sum = df_master[mask].groupby(by = ['Contributor Name', 'Receiving Committee']).sum()[['Contribution Amount']]\n",
    "df_contribution_count = df_master[mask].groupby(by = ['Contributor Name','Receiving Committee']).count()[['Contribution Amount']]\n",
    "df_contribution_count = df_contribution_count.rename(columns = {'Contribution Amount':'No of Contributions'})"
   ]
  },
  {
   "cell_type": "code",
   "execution_count": 150,
   "id": "5253d620",
   "metadata": {},
   "outputs": [],
   "source": [
    "df_grouped = [df_contribution_sum, df_contribution_count]"
   ]
  },
  {
   "cell_type": "code",
   "execution_count": 151,
   "id": "4e59ff4a",
   "metadata": {},
   "outputs": [],
   "source": [
    "df_grouped = pd.concat(df_grouped, axis = 1)\n",
    "df_grouped = df_grouped.sort_values(by=['No of Contributions'], ascending = False)"
   ]
  },
  {
   "cell_type": "code",
   "execution_count": 152,
   "id": "5fdff81c",
   "metadata": {},
   "outputs": [
    {
     "data": {
      "text/html": [
       "<div>\n",
       "<style scoped>\n",
       "    .dataframe tbody tr th:only-of-type {\n",
       "        vertical-align: middle;\n",
       "    }\n",
       "\n",
       "    .dataframe tbody tr th {\n",
       "        vertical-align: top;\n",
       "    }\n",
       "\n",
       "    .dataframe thead th {\n",
       "        text-align: right;\n",
       "    }\n",
       "</style>\n",
       "<table border=\"1\" class=\"dataframe\">\n",
       "  <thead>\n",
       "    <tr style=\"text-align: right;\">\n",
       "      <th></th>\n",
       "      <th></th>\n",
       "      <th>Contribution Amount</th>\n",
       "      <th>No of Contributions</th>\n",
       "    </tr>\n",
       "    <tr>\n",
       "      <th>Contributor Name</th>\n",
       "      <th>Receiving Committee</th>\n",
       "      <th></th>\n",
       "      <th></th>\n",
       "    </tr>\n",
       "  </thead>\n",
       "  <tbody>\n",
       "    <tr>\n",
       "      <th>Walsh, Elizabeth</th>\n",
       "      <th>Walsh, Liz (Elizabeth) Committee to Elect</th>\n",
       "      <td>2330.90</td>\n",
       "      <td>21</td>\n",
       "    </tr>\n",
       "    <tr>\n",
       "      <th>Wagner, Joseph</th>\n",
       "      <th>Kurtom, Neveen Friends of</th>\n",
       "      <td>5638.10</td>\n",
       "      <td>13</td>\n",
       "    </tr>\n",
       "    <tr>\n",
       "      <th>Popp, Dawn</th>\n",
       "      <th>Walsh, Liz (Elizabeth) Committee to Elect</th>\n",
       "      <td>1768.13</td>\n",
       "      <td>12</td>\n",
       "    </tr>\n",
       "    <tr>\n",
       "      <th>Kepnes, Kimberly</th>\n",
       "      <th>Walsh, Liz (Elizabeth) Committee to Elect</th>\n",
       "      <td>1352.06</td>\n",
       "      <td>10</td>\n",
       "    </tr>\n",
       "    <tr>\n",
       "      <th>Farrell, Katherine</th>\n",
       "      <th>Walsh, Liz (Elizabeth) Committee to Elect</th>\n",
       "      <td>386.00</td>\n",
       "      <td>9</td>\n",
       "    </tr>\n",
       "    <tr>\n",
       "      <th>...</th>\n",
       "      <th>...</th>\n",
       "      <td>...</td>\n",
       "      <td>...</td>\n",
       "    </tr>\n",
       "    <tr>\n",
       "      <th>Hohmann, Lars</th>\n",
       "      <th>Walsh, Liz (Elizabeth) for Howard County</th>\n",
       "      <td>10.53</td>\n",
       "      <td>1</td>\n",
       "    </tr>\n",
       "    <tr>\n",
       "      <th>Hoagland, Gina</th>\n",
       "      <th>Walsh, Liz (Elizabeth) Committee to Elect</th>\n",
       "      <td>10.00</td>\n",
       "      <td>1</td>\n",
       "    </tr>\n",
       "    <tr>\n",
       "      <th>Himel, James</th>\n",
       "      <th>Kurtom, Neveen Friends of</th>\n",
       "      <td>500.00</td>\n",
       "      <td>1</td>\n",
       "    </tr>\n",
       "    <tr>\n",
       "      <th>Herren, Karen</th>\n",
       "      <th>Walsh, Liz (Elizabeth) for Howard County</th>\n",
       "      <td>50.00</td>\n",
       "      <td>1</td>\n",
       "    </tr>\n",
       "    <tr>\n",
       "      <th>ruzicka, Matthew</th>\n",
       "      <th>Walsh, Liz (Elizabeth) for Howard County</th>\n",
       "      <td>5.36</td>\n",
       "      <td>1</td>\n",
       "    </tr>\n",
       "  </tbody>\n",
       "</table>\n",
       "<p>450 rows × 2 columns</p>\n",
       "</div>"
      ],
      "text/plain": [
       "                                                              Contribution Amount  \\\n",
       "Contributor Name   Receiving Committee                                              \n",
       "Walsh, Elizabeth   Walsh, Liz (Elizabeth) Committee to Elect              2330.90   \n",
       "Wagner, Joseph     Kurtom, Neveen Friends of                              5638.10   \n",
       "Popp, Dawn         Walsh, Liz (Elizabeth) Committee to Elect              1768.13   \n",
       "Kepnes, Kimberly   Walsh, Liz (Elizabeth) Committee to Elect              1352.06   \n",
       "Farrell, Katherine Walsh, Liz (Elizabeth) Committee to Elect               386.00   \n",
       "...                                                                           ...   \n",
       "Hohmann, Lars      Walsh, Liz (Elizabeth) for Howard County                 10.53   \n",
       "Hoagland, Gina     Walsh, Liz (Elizabeth) Committee to Elect                10.00   \n",
       "Himel, James       Kurtom, Neveen Friends of                               500.00   \n",
       "Herren, Karen      Walsh, Liz (Elizabeth) for Howard County                 50.00   \n",
       "ruzicka, Matthew   Walsh, Liz (Elizabeth) for Howard County                  5.36   \n",
       "\n",
       "                                                              No of Contributions  \n",
       "Contributor Name   Receiving Committee                                             \n",
       "Walsh, Elizabeth   Walsh, Liz (Elizabeth) Committee to Elect                   21  \n",
       "Wagner, Joseph     Kurtom, Neveen Friends of                                   13  \n",
       "Popp, Dawn         Walsh, Liz (Elizabeth) Committee to Elect                   12  \n",
       "Kepnes, Kimberly   Walsh, Liz (Elizabeth) Committee to Elect                   10  \n",
       "Farrell, Katherine Walsh, Liz (Elizabeth) Committee to Elect                    9  \n",
       "...                                                                           ...  \n",
       "Hohmann, Lars      Walsh, Liz (Elizabeth) for Howard County                     1  \n",
       "Hoagland, Gina     Walsh, Liz (Elizabeth) Committee to Elect                    1  \n",
       "Himel, James       Kurtom, Neveen Friends of                                    1  \n",
       "Herren, Karen      Walsh, Liz (Elizabeth) for Howard County                     1  \n",
       "ruzicka, Matthew   Walsh, Liz (Elizabeth) for Howard County                     1  \n",
       "\n",
       "[450 rows x 2 columns]"
      ]
     },
     "execution_count": 152,
     "metadata": {},
     "output_type": "execute_result"
    }
   ],
   "source": [
    "group_by = df_master[mask].groupby(['Contributor Name', 'Receiving Committee']).agg({'Contribution Amount':'sum', 'Contributor Name':'count'}).rename(columns={'Contributor Name':'No of Contributions'}).sort_values(by=['No of Contributions'], ascending = False)\n",
    "group_by\n"
   ]
  },
  {
   "cell_type": "code",
   "execution_count": 153,
   "id": "5f27bcab",
   "metadata": {},
   "outputs": [],
   "source": [
    "f = {'Contributor Name': 'nunique', 'Contribution Amount':'np.sum'}\n",
    "df_contribution = df_master[mask].groupby(['Contributor Name', 'Receiving Committee'])\n",
    "#df_contribution_sum = df_contribution.agg(f)\n",
    "#df_contribution_sum"
   ]
  },
  {
   "cell_type": "code",
   "execution_count": 154,
   "id": "b46624fc",
   "metadata": {},
   "outputs": [
    {
     "data": {
      "text/html": [
       "<div>\n",
       "<style scoped>\n",
       "    .dataframe tbody tr th:only-of-type {\n",
       "        vertical-align: middle;\n",
       "    }\n",
       "\n",
       "    .dataframe tbody tr th {\n",
       "        vertical-align: top;\n",
       "    }\n",
       "\n",
       "    .dataframe thead th {\n",
       "        text-align: right;\n",
       "    }\n",
       "</style>\n",
       "<table border=\"1\" class=\"dataframe\">\n",
       "  <thead>\n",
       "    <tr style=\"text-align: right;\">\n",
       "      <th></th>\n",
       "      <th></th>\n",
       "      <th>Total Contribution</th>\n",
       "      <th>No of Contributions</th>\n",
       "    </tr>\n",
       "    <tr>\n",
       "      <th>Contributor Name</th>\n",
       "      <th>Receiving Committee</th>\n",
       "      <th></th>\n",
       "      <th></th>\n",
       "    </tr>\n",
       "  </thead>\n",
       "  <tbody>\n",
       "    <tr>\n",
       "      <th>Achey, Toni</th>\n",
       "      <th>Walsh, Liz (Elizabeth) Committee to Elect</th>\n",
       "      <td>24.00</td>\n",
       "      <td>1</td>\n",
       "    </tr>\n",
       "    <tr>\n",
       "      <th>Adams, William</th>\n",
       "      <th>Walsh, Liz (Elizabeth) Committee to Elect</th>\n",
       "      <td>100.00</td>\n",
       "      <td>3</td>\n",
       "    </tr>\n",
       "    <tr>\n",
       "      <th>Adler, Delphine</th>\n",
       "      <th>Kurtom, Neveen Friends of</th>\n",
       "      <td>200.00</td>\n",
       "      <td>1</td>\n",
       "    </tr>\n",
       "    <tr>\n",
       "      <th>Adler, Steve</th>\n",
       "      <th>Kurtom, Neveen Friends of</th>\n",
       "      <td>100.00</td>\n",
       "      <td>1</td>\n",
       "    </tr>\n",
       "    <tr>\n",
       "      <th>Ainslie, Katie</th>\n",
       "      <th>Walsh, Liz (Elizabeth) Committee to Elect</th>\n",
       "      <td>10.00</td>\n",
       "      <td>1</td>\n",
       "    </tr>\n",
       "    <tr>\n",
       "      <th>...</th>\n",
       "      <th>...</th>\n",
       "      <td>...</td>\n",
       "      <td>...</td>\n",
       "    </tr>\n",
       "    <tr>\n",
       "      <th>Zhang, Li</th>\n",
       "      <th>Walsh, Liz (Elizabeth) for Howard County</th>\n",
       "      <td>100.00</td>\n",
       "      <td>1</td>\n",
       "    </tr>\n",
       "    <tr>\n",
       "      <th>de Melo, Lucas</th>\n",
       "      <th>Walsh, Liz (Elizabeth) for Howard County</th>\n",
       "      <td>250.00</td>\n",
       "      <td>1</td>\n",
       "    </tr>\n",
       "    <tr>\n",
       "      <th>langley, James</th>\n",
       "      <th>Kurtom, Neveen Friends of</th>\n",
       "      <td>1000.00</td>\n",
       "      <td>1</td>\n",
       "    </tr>\n",
       "    <tr>\n",
       "      <th>mkcreativemedia</th>\n",
       "      <th>Walsh, Liz (Elizabeth) Committee to Elect</th>\n",
       "      <td>5085.00</td>\n",
       "      <td>1</td>\n",
       "    </tr>\n",
       "    <tr>\n",
       "      <th>ruzicka, Matthew</th>\n",
       "      <th>Walsh, Liz (Elizabeth) for Howard County</th>\n",
       "      <td>5.36</td>\n",
       "      <td>1</td>\n",
       "    </tr>\n",
       "  </tbody>\n",
       "</table>\n",
       "<p>450 rows × 2 columns</p>\n",
       "</div>"
      ],
      "text/plain": [
       "                                                            Total Contribution  \\\n",
       "Contributor Name Receiving Committee                                             \n",
       "Achey, Toni      Walsh, Liz (Elizabeth) Committee to Elect               24.00   \n",
       "Adams, William   Walsh, Liz (Elizabeth) Committee to Elect              100.00   \n",
       "Adler, Delphine  Kurtom, Neveen Friends of                              200.00   \n",
       "Adler, Steve     Kurtom, Neveen Friends of                              100.00   \n",
       "Ainslie, Katie   Walsh, Liz (Elizabeth) Committee to Elect               10.00   \n",
       "...                                                                        ...   \n",
       "Zhang, Li        Walsh, Liz (Elizabeth) for Howard County               100.00   \n",
       "de Melo, Lucas   Walsh, Liz (Elizabeth) for Howard County               250.00   \n",
       "langley, James   Kurtom, Neveen Friends of                             1000.00   \n",
       "mkcreativemedia  Walsh, Liz (Elizabeth) Committee to Elect             5085.00   \n",
       "ruzicka, Matthew Walsh, Liz (Elizabeth) for Howard County                 5.36   \n",
       "\n",
       "                                                            No of Contributions  \n",
       "Contributor Name Receiving Committee                                             \n",
       "Achey, Toni      Walsh, Liz (Elizabeth) Committee to Elect                    1  \n",
       "Adams, William   Walsh, Liz (Elizabeth) Committee to Elect                    3  \n",
       "Adler, Delphine  Kurtom, Neveen Friends of                                    1  \n",
       "Adler, Steve     Kurtom, Neveen Friends of                                    1  \n",
       "Ainslie, Katie   Walsh, Liz (Elizabeth) Committee to Elect                    1  \n",
       "...                                                                         ...  \n",
       "Zhang, Li        Walsh, Liz (Elizabeth) for Howard County                     1  \n",
       "de Melo, Lucas   Walsh, Liz (Elizabeth) for Howard County                     1  \n",
       "langley, James   Kurtom, Neveen Friends of                                    1  \n",
       "mkcreativemedia  Walsh, Liz (Elizabeth) Committee to Elect                    1  \n",
       "ruzicka, Matthew Walsh, Liz (Elizabeth) for Howard County                     1  \n",
       "\n",
       "[450 rows x 2 columns]"
      ]
     },
     "execution_count": 154,
     "metadata": {},
     "output_type": "execute_result"
    }
   ],
   "source": [
    "df_grouped = df_master[mask].groupby(['Contributor Name', 'Receiving Committee']).agg({'Contribution Amount':[\"sum\"], 'Contributor Name':[\"count\"]})\n",
    "df_grouped.columns=['Total Contribution', 'No of Contributions']\n",
    "df_grouped"
   ]
  },
  {
   "cell_type": "code",
   "execution_count": 155,
   "id": "827f7522",
   "metadata": {},
   "outputs": [],
   "source": [
    "developer_list = pd.read_csv('developercrossreference.csv').drop_duplicates()\n",
    "developer_list = developer_list.dropna()\n",
    "developer_list['Developer/Developer Affiliated']=developer_list['Developer/Developer Affiliated'].str.lower()\n",
    "developer_id = developer_list['Developer/Developer Affiliated']=='yes'\n",
    "developer_list = developer_list[developer_id]\n",
    "developer_list=developer_list.reset_index()\n",
    "developer_list = developer_list.drop(columns = 'index')\n",
    "developer_filter=df_master['Contributor Name'].isin(developer_list['Contributor Name'])\n",
    "developer_contributions = df_master[developer_filter]"
   ]
  },
  {
   "cell_type": "code",
   "execution_count": 156,
   "id": "e6279a44",
   "metadata": {
    "scrolled": true
   },
   "outputs": [
    {
     "data": {
      "text/html": [
       "<div>\n",
       "<style scoped>\n",
       "    .dataframe tbody tr th:only-of-type {\n",
       "        vertical-align: middle;\n",
       "    }\n",
       "\n",
       "    .dataframe tbody tr th {\n",
       "        vertical-align: top;\n",
       "    }\n",
       "\n",
       "    .dataframe thead th {\n",
       "        text-align: right;\n",
       "    }\n",
       "</style>\n",
       "<table border=\"1\" class=\"dataframe\">\n",
       "  <thead>\n",
       "    <tr style=\"text-align: right;\">\n",
       "      <th></th>\n",
       "      <th>Receiving Committee</th>\n",
       "      <th>Filing Period</th>\n",
       "      <th>Contribution Date</th>\n",
       "      <th>Contributor Name</th>\n",
       "      <th>Contributor Address</th>\n",
       "      <th>Contributor Type</th>\n",
       "      <th>Contribution Type</th>\n",
       "      <th>Contribution Amount</th>\n",
       "      <th>Employer Name</th>\n",
       "      <th>Employer Occupation</th>\n",
       "    </tr>\n",
       "  </thead>\n",
       "  <tbody>\n",
       "    <tr>\n",
       "      <th>1</th>\n",
       "      <td>Kurtom, Neveen Friends of</td>\n",
       "      <td>2022 Annual</td>\n",
       "      <td>2021-11-02</td>\n",
       "      <td>O\"Doherty, Damian</td>\n",
       "      <td>508 W. Joppa Road, Towson, MD 21204</td>\n",
       "      <td>Individual</td>\n",
       "      <td>Ticket Purchases Credit Card</td>\n",
       "      <td>950.0</td>\n",
       "      <td>KO Public Affairs</td>\n",
       "      <td>Other</td>\n",
       "    </tr>\n",
       "    <tr>\n",
       "      <th>2</th>\n",
       "      <td>Kurtom, Neveen Friends of</td>\n",
       "      <td>2022 Annual</td>\n",
       "      <td>2021-10-22</td>\n",
       "      <td>Rubin, Marc</td>\n",
       "      <td>11229 Welland St, North Potomac, MD 20878</td>\n",
       "      <td>Individual</td>\n",
       "      <td>Ticket Purchases Credit Card</td>\n",
       "      <td>250.0</td>\n",
       "      <td>NaN</td>\n",
       "      <td>NaN</td>\n",
       "    </tr>\n",
       "    <tr>\n",
       "      <th>4</th>\n",
       "      <td>Kurtom, Neveen Friends of</td>\n",
       "      <td>2022 Annual</td>\n",
       "      <td>2021-06-27</td>\n",
       "      <td>Wagner, Joseph</td>\n",
       "      <td>6363 Rowanberry Drive, Elkridge, MD 21075</td>\n",
       "      <td>Individual</td>\n",
       "      <td>Check</td>\n",
       "      <td>250.0</td>\n",
       "      <td>HBP, Inc.</td>\n",
       "      <td>Other</td>\n",
       "    </tr>\n",
       "    <tr>\n",
       "      <th>6</th>\n",
       "      <td>Kurtom, Neveen Friends of</td>\n",
       "      <td>2022 Annual</td>\n",
       "      <td>2021-10-22</td>\n",
       "      <td>Guckert, John</td>\n",
       "      <td>9900 Franklin Square Drive Suite H, Baltimore,...</td>\n",
       "      <td>Individual</td>\n",
       "      <td>Ticket Purchases Credit Card</td>\n",
       "      <td>250.0</td>\n",
       "      <td>NaN</td>\n",
       "      <td>NaN</td>\n",
       "    </tr>\n",
       "    <tr>\n",
       "      <th>7</th>\n",
       "      <td>Kurtom, Neveen Friends of</td>\n",
       "      <td>2022 Annual</td>\n",
       "      <td>2021-08-20</td>\n",
       "      <td>Corridor Square, LLC</td>\n",
       "      <td>6800 Deeepath Road, Suite 100, Elkridge, MD 21075</td>\n",
       "      <td>Business/Group/Organization</td>\n",
       "      <td>Check</td>\n",
       "      <td>1000.0</td>\n",
       "      <td>NaN</td>\n",
       "      <td>NaN</td>\n",
       "    </tr>\n",
       "    <tr>\n",
       "      <th>...</th>\n",
       "      <td>...</td>\n",
       "      <td>...</td>\n",
       "      <td>...</td>\n",
       "      <td>...</td>\n",
       "      <td>...</td>\n",
       "      <td>...</td>\n",
       "      <td>...</td>\n",
       "      <td>...</td>\n",
       "      <td>...</td>\n",
       "      <td>...</td>\n",
       "    </tr>\n",
       "    <tr>\n",
       "      <th>106</th>\n",
       "      <td>Kurtom, Neveen Friends of</td>\n",
       "      <td>2022 Annual</td>\n",
       "      <td>2022-01-10</td>\n",
       "      <td>Breeden, Kevin</td>\n",
       "      <td>P.O. Box 77, Casanova, VA 20139</td>\n",
       "      <td>Individual</td>\n",
       "      <td>Credit Card</td>\n",
       "      <td>500.0</td>\n",
       "      <td>Self-Employed</td>\n",
       "      <td>Legal</td>\n",
       "    </tr>\n",
       "    <tr>\n",
       "      <th>111</th>\n",
       "      <td>Kurtom, Neveen Friends of</td>\n",
       "      <td>2022 Annual</td>\n",
       "      <td>2021-10-27</td>\n",
       "      <td>Tabuteau, Richard</td>\n",
       "      <td>300 Dunkirk Road, Baltimore, MD 21212</td>\n",
       "      <td>Individual</td>\n",
       "      <td>Credit Card</td>\n",
       "      <td>250.0</td>\n",
       "      <td>NaN</td>\n",
       "      <td>NaN</td>\n",
       "    </tr>\n",
       "    <tr>\n",
       "      <th>112</th>\n",
       "      <td>Kurtom, Neveen Friends of</td>\n",
       "      <td>2022 Annual</td>\n",
       "      <td>2022-01-12</td>\n",
       "      <td>Sung Hwang &amp; Kim LLP</td>\n",
       "      <td>9256 Bendix Road, Suite 109, Columbia, MD 21045</td>\n",
       "      <td>Business/Group/Organization</td>\n",
       "      <td>Credit Card</td>\n",
       "      <td>200.0</td>\n",
       "      <td>NaN</td>\n",
       "      <td>NaN</td>\n",
       "    </tr>\n",
       "    <tr>\n",
       "      <th>114</th>\n",
       "      <td>Kurtom, Neveen Friends of</td>\n",
       "      <td>2022 Annual</td>\n",
       "      <td>2021-09-12</td>\n",
       "      <td>Clark, Robert</td>\n",
       "      <td>10 Clarion Court, Cockeysville, MD 21030</td>\n",
       "      <td>Individual</td>\n",
       "      <td>Credit Card</td>\n",
       "      <td>100.0</td>\n",
       "      <td>Law Office of Robert W. Clark, Jr.</td>\n",
       "      <td>Legal</td>\n",
       "    </tr>\n",
       "    <tr>\n",
       "      <th>116</th>\n",
       "      <td>Kurtom, Neveen Friends of</td>\n",
       "      <td>2022 Annual</td>\n",
       "      <td>2021-09-14</td>\n",
       "      <td>Sperry, Clark</td>\n",
       "      <td>1156 Sevenview Drive, Crownsville, MD 21032</td>\n",
       "      <td>Individual</td>\n",
       "      <td>Ticket Purchases Check</td>\n",
       "      <td>200.0</td>\n",
       "      <td>NaN</td>\n",
       "      <td>NaN</td>\n",
       "    </tr>\n",
       "  </tbody>\n",
       "</table>\n",
       "<p>63 rows × 10 columns</p>\n",
       "</div>"
      ],
      "text/plain": [
       "           Receiving Committee Filing Period Contribution Date  \\\n",
       "1    Kurtom, Neveen Friends of   2022 Annual        2021-11-02   \n",
       "2    Kurtom, Neveen Friends of   2022 Annual        2021-10-22   \n",
       "4    Kurtom, Neveen Friends of   2022 Annual        2021-06-27   \n",
       "6    Kurtom, Neveen Friends of   2022 Annual        2021-10-22   \n",
       "7    Kurtom, Neveen Friends of   2022 Annual        2021-08-20   \n",
       "..                         ...           ...               ...   \n",
       "106  Kurtom, Neveen Friends of   2022 Annual        2022-01-10   \n",
       "111  Kurtom, Neveen Friends of   2022 Annual        2021-10-27   \n",
       "112  Kurtom, Neveen Friends of   2022 Annual        2022-01-12   \n",
       "114  Kurtom, Neveen Friends of   2022 Annual        2021-09-12   \n",
       "116  Kurtom, Neveen Friends of   2022 Annual        2021-09-14   \n",
       "\n",
       "         Contributor Name                                Contributor Address  \\\n",
       "1       O\"Doherty, Damian                508 W. Joppa Road, Towson, MD 21204   \n",
       "2             Rubin, Marc          11229 Welland St, North Potomac, MD 20878   \n",
       "4          Wagner, Joseph          6363 Rowanberry Drive, Elkridge, MD 21075   \n",
       "6           Guckert, John  9900 Franklin Square Drive Suite H, Baltimore,...   \n",
       "7    Corridor Square, LLC  6800 Deeepath Road, Suite 100, Elkridge, MD 21075   \n",
       "..                    ...                                                ...   \n",
       "106        Breeden, Kevin                    P.O. Box 77, Casanova, VA 20139   \n",
       "111     Tabuteau, Richard              300 Dunkirk Road, Baltimore, MD 21212   \n",
       "112  Sung Hwang & Kim LLP    9256 Bendix Road, Suite 109, Columbia, MD 21045   \n",
       "114         Clark, Robert           10 Clarion Court, Cockeysville, MD 21030   \n",
       "116         Sperry, Clark        1156 Sevenview Drive, Crownsville, MD 21032   \n",
       "\n",
       "                Contributor Type             Contribution Type  \\\n",
       "1                     Individual  Ticket Purchases Credit Card   \n",
       "2                     Individual  Ticket Purchases Credit Card   \n",
       "4                     Individual                         Check   \n",
       "6                     Individual  Ticket Purchases Credit Card   \n",
       "7    Business/Group/Organization                         Check   \n",
       "..                           ...                           ...   \n",
       "106                   Individual                   Credit Card   \n",
       "111                   Individual                   Credit Card   \n",
       "112  Business/Group/Organization                   Credit Card   \n",
       "114                   Individual                   Credit Card   \n",
       "116                   Individual        Ticket Purchases Check   \n",
       "\n",
       "     Contribution Amount                       Employer Name  \\\n",
       "1                  950.0                   KO Public Affairs   \n",
       "2                  250.0                                 NaN   \n",
       "4                  250.0                           HBP, Inc.   \n",
       "6                  250.0                                 NaN   \n",
       "7                 1000.0                                 NaN   \n",
       "..                   ...                                 ...   \n",
       "106                500.0                       Self-Employed   \n",
       "111                250.0                                 NaN   \n",
       "112                200.0                                 NaN   \n",
       "114                100.0  Law Office of Robert W. Clark, Jr.   \n",
       "116                200.0                                 NaN   \n",
       "\n",
       "    Employer Occupation  \n",
       "1                 Other  \n",
       "2                   NaN  \n",
       "4                 Other  \n",
       "6                   NaN  \n",
       "7                   NaN  \n",
       "..                  ...  \n",
       "106               Legal  \n",
       "111                 NaN  \n",
       "112                 NaN  \n",
       "114               Legal  \n",
       "116                 NaN  \n",
       "\n",
       "[63 rows x 10 columns]"
      ]
     },
     "execution_count": 156,
     "metadata": {},
     "output_type": "execute_result"
    }
   ],
   "source": [
    "developer_contributions"
   ]
  },
  {
   "cell_type": "code",
   "execution_count": 157,
   "id": "4a672d3f",
   "metadata": {},
   "outputs": [
    {
     "data": {
      "text/html": [
       "<div>\n",
       "<style scoped>\n",
       "    .dataframe tbody tr th:only-of-type {\n",
       "        vertical-align: middle;\n",
       "    }\n",
       "\n",
       "    .dataframe tbody tr th {\n",
       "        vertical-align: top;\n",
       "    }\n",
       "\n",
       "    .dataframe thead tr th {\n",
       "        text-align: left;\n",
       "    }\n",
       "</style>\n",
       "<table border=\"1\" class=\"dataframe\">\n",
       "  <thead>\n",
       "    <tr>\n",
       "      <th></th>\n",
       "      <th>index</th>\n",
       "      <th>Receiving Committee</th>\n",
       "      <th>Contribution Amount</th>\n",
       "      <th>Contributor Name</th>\n",
       "    </tr>\n",
       "    <tr>\n",
       "      <th></th>\n",
       "      <th></th>\n",
       "      <th></th>\n",
       "      <th>sum</th>\n",
       "      <th>count</th>\n",
       "    </tr>\n",
       "  </thead>\n",
       "  <tbody>\n",
       "    <tr>\n",
       "      <th>0</th>\n",
       "      <td>0</td>\n",
       "      <td>Walsh, Liz (Elizabeth) Committee to Elect</td>\n",
       "      <td>24.00</td>\n",
       "      <td>1</td>\n",
       "    </tr>\n",
       "    <tr>\n",
       "      <th>1</th>\n",
       "      <td>1</td>\n",
       "      <td>Walsh, Liz (Elizabeth) Committee to Elect</td>\n",
       "      <td>100.00</td>\n",
       "      <td>3</td>\n",
       "    </tr>\n",
       "    <tr>\n",
       "      <th>2</th>\n",
       "      <td>2</td>\n",
       "      <td>Kurtom, Neveen Friends of</td>\n",
       "      <td>200.00</td>\n",
       "      <td>1</td>\n",
       "    </tr>\n",
       "    <tr>\n",
       "      <th>3</th>\n",
       "      <td>3</td>\n",
       "      <td>Kurtom, Neveen Friends of</td>\n",
       "      <td>100.00</td>\n",
       "      <td>1</td>\n",
       "    </tr>\n",
       "    <tr>\n",
       "      <th>4</th>\n",
       "      <td>4</td>\n",
       "      <td>Walsh, Liz (Elizabeth) Committee to Elect</td>\n",
       "      <td>10.00</td>\n",
       "      <td>1</td>\n",
       "    </tr>\n",
       "    <tr>\n",
       "      <th>...</th>\n",
       "      <td>...</td>\n",
       "      <td>...</td>\n",
       "      <td>...</td>\n",
       "      <td>...</td>\n",
       "    </tr>\n",
       "    <tr>\n",
       "      <th>445</th>\n",
       "      <td>445</td>\n",
       "      <td>Walsh, Liz (Elizabeth) for Howard County</td>\n",
       "      <td>100.00</td>\n",
       "      <td>1</td>\n",
       "    </tr>\n",
       "    <tr>\n",
       "      <th>446</th>\n",
       "      <td>446</td>\n",
       "      <td>Walsh, Liz (Elizabeth) for Howard County</td>\n",
       "      <td>250.00</td>\n",
       "      <td>1</td>\n",
       "    </tr>\n",
       "    <tr>\n",
       "      <th>447</th>\n",
       "      <td>447</td>\n",
       "      <td>Kurtom, Neveen Friends of</td>\n",
       "      <td>1000.00</td>\n",
       "      <td>1</td>\n",
       "    </tr>\n",
       "    <tr>\n",
       "      <th>448</th>\n",
       "      <td>448</td>\n",
       "      <td>Walsh, Liz (Elizabeth) Committee to Elect</td>\n",
       "      <td>5085.00</td>\n",
       "      <td>1</td>\n",
       "    </tr>\n",
       "    <tr>\n",
       "      <th>449</th>\n",
       "      <td>449</td>\n",
       "      <td>Walsh, Liz (Elizabeth) for Howard County</td>\n",
       "      <td>5.36</td>\n",
       "      <td>1</td>\n",
       "    </tr>\n",
       "  </tbody>\n",
       "</table>\n",
       "<p>450 rows × 4 columns</p>\n",
       "</div>"
      ],
      "text/plain": [
       "    index                        Receiving Committee Contribution Amount  \\\n",
       "                                                                     sum   \n",
       "0       0  Walsh, Liz (Elizabeth) Committee to Elect               24.00   \n",
       "1       1  Walsh, Liz (Elizabeth) Committee to Elect              100.00   \n",
       "2       2                  Kurtom, Neveen Friends of              200.00   \n",
       "3       3                  Kurtom, Neveen Friends of              100.00   \n",
       "4       4  Walsh, Liz (Elizabeth) Committee to Elect               10.00   \n",
       "..    ...                                        ...                 ...   \n",
       "445   445   Walsh, Liz (Elizabeth) for Howard County              100.00   \n",
       "446   446   Walsh, Liz (Elizabeth) for Howard County              250.00   \n",
       "447   447                  Kurtom, Neveen Friends of             1000.00   \n",
       "448   448  Walsh, Liz (Elizabeth) Committee to Elect             5085.00   \n",
       "449   449   Walsh, Liz (Elizabeth) for Howard County                5.36   \n",
       "\n",
       "    Contributor Name  \n",
       "               count  \n",
       "0                  1  \n",
       "1                  3  \n",
       "2                  1  \n",
       "3                  1  \n",
       "4                  1  \n",
       "..               ...  \n",
       "445                1  \n",
       "446                1  \n",
       "447                1  \n",
       "448                1  \n",
       "449                1  \n",
       "\n",
       "[450 rows x 4 columns]"
      ]
     },
     "execution_count": 157,
     "metadata": {},
     "output_type": "execute_result"
    }
   ],
   "source": [
    "df_grouped = df_master[mask].groupby(['Contributor Name', 'Receiving Committee'], as_index=False).agg({'Contribution Amount':[\"sum\"], 'Contributor Name':[\"count\"]})\n",
    "df_grouped.reset_index()"
   ]
  },
  {
   "cell_type": "code",
   "execution_count": 158,
   "id": "b19d37e1",
   "metadata": {},
   "outputs": [],
   "source": [
    "import plotly.express as px\n",
    "developer_list = pd.read_csv('developercrossreference.csv')\n",
    "developer_list = developer_list.dropna()\n",
    "developer_list['Developer/Developer Affiliated']=developer_list['Developer/Developer Affiliated'].str.lower()\n",
    "developer_id = developer_list['Developer/Developer Affiliated']=='yes'\n",
    "developer_list = developer_list[developer_id]\n",
    "developer_list=developer_list.reset_index()\n",
    "developer_list = developer_list.drop_duplicates(subset=['Contributor Name'])\n",
    "developer_list = developer_list.drop(columns = 'index')\n",
    "\n",
    "developer_filter=df_master['Contributor Name'].isin(developer_list['Contributor Name'])\n",
    "df_grouped = df_master[developer_filter].groupby(['Contributor Name', 'Receiving Committee']).agg({'Contribution Amount':[\"sum\"], 'Contributor Name':[\"count\"]})\n",
    "df_grouped.columns=['Total Contribution', 'No of Contributions']\n",
    "df_grouped_for_plot = df_grouped\n",
    "table_cols = df_grouped_for_plot.reset_index().sort_values(by=['Total Contribution'], ascending = False).head(10)\n",
    "fig = px.bar(table_cols, x=table_cols['Contributor Name'], y=table_cols['Total Contribution'])"
   ]
  },
  {
   "cell_type": "code",
   "execution_count": 159,
   "id": "71c2bfdc",
   "metadata": {},
   "outputs": [
    {
     "data": {
      "text/html": [
       "<div>\n",
       "<style scoped>\n",
       "    .dataframe tbody tr th:only-of-type {\n",
       "        vertical-align: middle;\n",
       "    }\n",
       "\n",
       "    .dataframe tbody tr th {\n",
       "        vertical-align: top;\n",
       "    }\n",
       "\n",
       "    .dataframe thead th {\n",
       "        text-align: right;\n",
       "    }\n",
       "</style>\n",
       "<table border=\"1\" class=\"dataframe\">\n",
       "  <thead>\n",
       "    <tr style=\"text-align: right;\">\n",
       "      <th></th>\n",
       "      <th>Contributor Name</th>\n",
       "      <th>Receiving Committee</th>\n",
       "      <th>Total Contribution</th>\n",
       "      <th>No of Contributions</th>\n",
       "    </tr>\n",
       "  </thead>\n",
       "  <tbody>\n",
       "    <tr>\n",
       "      <th>38</th>\n",
       "      <td>Wagner, Joseph</td>\n",
       "      <td>Kurtom, Neveen Friends of</td>\n",
       "      <td>5638.1</td>\n",
       "      <td>13</td>\n",
       "    </tr>\n",
       "    <tr>\n",
       "      <th>22</th>\n",
       "      <td>O\"Doherty, Damian</td>\n",
       "      <td>Kurtom, Neveen Friends of</td>\n",
       "      <td>2850.0</td>\n",
       "      <td>3</td>\n",
       "    </tr>\n",
       "    <tr>\n",
       "      <th>35</th>\n",
       "      <td>The Howard Research and Development Corporation</td>\n",
       "      <td>Kurtom, Neveen Friends of</td>\n",
       "      <td>2000.0</td>\n",
       "      <td>2</td>\n",
       "    </tr>\n",
       "    <tr>\n",
       "      <th>15</th>\n",
       "      <td>Hyland, Timothy</td>\n",
       "      <td>Kurtom, Neveen Friends of</td>\n",
       "      <td>1700.0</td>\n",
       "      <td>3</td>\n",
       "    </tr>\n",
       "    <tr>\n",
       "      <th>17</th>\n",
       "      <td>Kelehan, Kevin</td>\n",
       "      <td>Kurtom, Neveen Friends of</td>\n",
       "      <td>1050.0</td>\n",
       "      <td>2</td>\n",
       "    </tr>\n",
       "    <tr>\n",
       "      <th>28</th>\n",
       "      <td>S.E.H. Excavating, Inc.</td>\n",
       "      <td>Kurtom, Neveen Friends of</td>\n",
       "      <td>1000.0</td>\n",
       "      <td>1</td>\n",
       "    </tr>\n",
       "    <tr>\n",
       "      <th>14</th>\n",
       "      <td>Heath, Jeremy</td>\n",
       "      <td>Kurtom, Neveen Friends of</td>\n",
       "      <td>1000.0</td>\n",
       "      <td>1</td>\n",
       "    </tr>\n",
       "    <tr>\n",
       "      <th>10</th>\n",
       "      <td>Griffin, Corey</td>\n",
       "      <td>Kurtom, Neveen Friends of</td>\n",
       "      <td>1000.0</td>\n",
       "      <td>2</td>\n",
       "    </tr>\n",
       "    <tr>\n",
       "      <th>40</th>\n",
       "      <td>langley, James</td>\n",
       "      <td>Kurtom, Neveen Friends of</td>\n",
       "      <td>1000.0</td>\n",
       "      <td>1</td>\n",
       "    </tr>\n",
       "    <tr>\n",
       "      <th>29</th>\n",
       "      <td>SCL Consulting LLC</td>\n",
       "      <td>Kurtom, Neveen Friends of</td>\n",
       "      <td>1000.0</td>\n",
       "      <td>1</td>\n",
       "    </tr>\n",
       "  </tbody>\n",
       "</table>\n",
       "</div>"
      ],
      "text/plain": [
       "                                   Contributor Name  \\\n",
       "38                                   Wagner, Joseph   \n",
       "22                                O\"Doherty, Damian   \n",
       "35  The Howard Research and Development Corporation   \n",
       "15                                  Hyland, Timothy   \n",
       "17                                   Kelehan, Kevin   \n",
       "28                          S.E.H. Excavating, Inc.   \n",
       "14                                    Heath, Jeremy   \n",
       "10                                   Griffin, Corey   \n",
       "40                                   langley, James   \n",
       "29                               SCL Consulting LLC   \n",
       "\n",
       "          Receiving Committee  Total Contribution  No of Contributions  \n",
       "38  Kurtom, Neveen Friends of              5638.1                   13  \n",
       "22  Kurtom, Neveen Friends of              2850.0                    3  \n",
       "35  Kurtom, Neveen Friends of              2000.0                    2  \n",
       "15  Kurtom, Neveen Friends of              1700.0                    3  \n",
       "17  Kurtom, Neveen Friends of              1050.0                    2  \n",
       "28  Kurtom, Neveen Friends of              1000.0                    1  \n",
       "14  Kurtom, Neveen Friends of              1000.0                    1  \n",
       "10  Kurtom, Neveen Friends of              1000.0                    2  \n",
       "40  Kurtom, Neveen Friends of              1000.0                    1  \n",
       "29  Kurtom, Neveen Friends of              1000.0                    1  "
      ]
     },
     "execution_count": 159,
     "metadata": {},
     "output_type": "execute_result"
    }
   ],
   "source": [
    "table_cols"
   ]
  },
  {
   "cell_type": "code",
   "execution_count": 175,
   "id": "08aef127",
   "metadata": {},
   "outputs": [
    {
     "data": {
      "text/html": [
       "<div>\n",
       "<style scoped>\n",
       "    .dataframe tbody tr th:only-of-type {\n",
       "        vertical-align: middle;\n",
       "    }\n",
       "\n",
       "    .dataframe tbody tr th {\n",
       "        vertical-align: top;\n",
       "    }\n",
       "\n",
       "    .dataframe thead th {\n",
       "        text-align: right;\n",
       "    }\n",
       "</style>\n",
       "<table border=\"1\" class=\"dataframe\">\n",
       "  <thead>\n",
       "    <tr style=\"text-align: right;\">\n",
       "      <th></th>\n",
       "      <th>Receiving Committee</th>\n",
       "      <th>Filing Period</th>\n",
       "      <th>TotalContribution</th>\n",
       "    </tr>\n",
       "  </thead>\n",
       "  <tbody>\n",
       "    <tr>\n",
       "      <th>0</th>\n",
       "      <td>Kurtom, Neveen Friends of</td>\n",
       "      <td>2022 Annual</td>\n",
       "      <td>41048.48</td>\n",
       "    </tr>\n",
       "    <tr>\n",
       "      <th>1</th>\n",
       "      <td>Walsh, Liz (Elizabeth) Committee to Elect</td>\n",
       "      <td>2018 Gubernatorial Post-General</td>\n",
       "      <td>7052.43</td>\n",
       "    </tr>\n",
       "    <tr>\n",
       "      <th>2</th>\n",
       "      <td>Walsh, Liz (Elizabeth) Committee to Elect</td>\n",
       "      <td>2018 Gubernatorial Pre-General1 Report</td>\n",
       "      <td>4940.13</td>\n",
       "    </tr>\n",
       "    <tr>\n",
       "      <th>3</th>\n",
       "      <td>Walsh, Liz (Elizabeth) Committee to Elect</td>\n",
       "      <td>2018 Gubernatorial Pre-General2 Report</td>\n",
       "      <td>12644.39</td>\n",
       "    </tr>\n",
       "    <tr>\n",
       "      <th>4</th>\n",
       "      <td>Walsh, Liz (Elizabeth) Committee to Elect</td>\n",
       "      <td>2018 Gubernatorial Pre-Primary1</td>\n",
       "      <td>3717.87</td>\n",
       "    </tr>\n",
       "    <tr>\n",
       "      <th>5</th>\n",
       "      <td>Walsh, Liz (Elizabeth) Committee to Elect</td>\n",
       "      <td>2018 Gubernatorial Pre-Primary2</td>\n",
       "      <td>1362.55</td>\n",
       "    </tr>\n",
       "    <tr>\n",
       "      <th>6</th>\n",
       "      <td>Walsh, Liz (Elizabeth) Committee to Elect</td>\n",
       "      <td>2018 Gubernatorial Spring Report</td>\n",
       "      <td>5698.72</td>\n",
       "    </tr>\n",
       "    <tr>\n",
       "      <th>7</th>\n",
       "      <td>Walsh, Liz (Elizabeth) Committee to Elect</td>\n",
       "      <td>2019 Annual</td>\n",
       "      <td>312.00</td>\n",
       "    </tr>\n",
       "    <tr>\n",
       "      <th>8</th>\n",
       "      <td>Walsh, Liz (Elizabeth) Committee to Elect</td>\n",
       "      <td>2020 Annual</td>\n",
       "      <td>112.00</td>\n",
       "    </tr>\n",
       "    <tr>\n",
       "      <th>9</th>\n",
       "      <td>Walsh, Liz (Elizabeth) Committee to Elect</td>\n",
       "      <td>2022 Annual</td>\n",
       "      <td>493.00</td>\n",
       "    </tr>\n",
       "    <tr>\n",
       "      <th>10</th>\n",
       "      <td>Walsh, Liz (Elizabeth) for Howard County</td>\n",
       "      <td>2022 Gubernatorial Pre-Primary1</td>\n",
       "      <td>17294.55</td>\n",
       "    </tr>\n",
       "  </tbody>\n",
       "</table>\n",
       "</div>"
      ],
      "text/plain": [
       "                          Receiving Committee  \\\n",
       "0                   Kurtom, Neveen Friends of   \n",
       "1   Walsh, Liz (Elizabeth) Committee to Elect   \n",
       "2   Walsh, Liz (Elizabeth) Committee to Elect   \n",
       "3   Walsh, Liz (Elizabeth) Committee to Elect   \n",
       "4   Walsh, Liz (Elizabeth) Committee to Elect   \n",
       "5   Walsh, Liz (Elizabeth) Committee to Elect   \n",
       "6   Walsh, Liz (Elizabeth) Committee to Elect   \n",
       "7   Walsh, Liz (Elizabeth) Committee to Elect   \n",
       "8   Walsh, Liz (Elizabeth) Committee to Elect   \n",
       "9   Walsh, Liz (Elizabeth) Committee to Elect   \n",
       "10   Walsh, Liz (Elizabeth) for Howard County   \n",
       "\n",
       "                             Filing Period  TotalContribution  \n",
       "0                              2022 Annual           41048.48  \n",
       "1          2018 Gubernatorial Post-General            7052.43  \n",
       "2   2018 Gubernatorial Pre-General1 Report            4940.13  \n",
       "3   2018 Gubernatorial Pre-General2 Report           12644.39  \n",
       "4          2018 Gubernatorial Pre-Primary1            3717.87  \n",
       "5          2018 Gubernatorial Pre-Primary2            1362.55  \n",
       "6         2018 Gubernatorial Spring Report            5698.72  \n",
       "7                              2019 Annual             312.00  \n",
       "8                              2020 Annual             112.00  \n",
       "9                              2022 Annual             493.00  \n",
       "10         2022 Gubernatorial Pre-Primary1           17294.55  "
      ]
     },
     "execution_count": 175,
     "metadata": {},
     "output_type": "execute_result"
    }
   ],
   "source": [
    "contribution_by_filing_period = df_master[mask].groupby(['Receiving Committee','Filing Period'])\n",
    "contribution_by_filing_period=contribution_by_filing_period.agg(\n",
    "    TotalContribution =('Contribution Amount','sum')).reset_index()\n",
    "#contribution_by_filing_period.columns=['Total Contribution']\n",
    "contribution_by_filing_period"
   ]
  },
  {
   "cell_type": "code",
   "execution_count": 181,
   "id": "45849f87",
   "metadata": {},
   "outputs": [],
   "source": [
    "fig = px.bar(contribution_by_filing_period, x = contribution_by_filing_period['Filing Period'], y=contribution_by_filing_period['TotalContribution'],color=contribution_by_filing_period['Receiving Committee'])"
   ]
  },
  {
   "cell_type": "code",
   "execution_count": 182,
   "id": "efa39f71",
   "metadata": {},
   "outputs": [
    {
     "data": {
      "application/vnd.plotly.v1+json": {
       "config": {
        "plotlyServerURL": "https://plot.ly"
       },
       "data": [
        {
         "alignmentgroup": "True",
         "hovertemplate": "Receiving Committee=Kurtom, Neveen Friends of<br>Filing Period=%{x}<br>TotalContribution=%{y}<extra></extra>",
         "legendgroup": "Kurtom, Neveen Friends of",
         "marker": {
          "color": "#636efa",
          "pattern": {
           "shape": ""
          }
         },
         "name": "Kurtom, Neveen Friends of",
         "offsetgroup": "Kurtom, Neveen Friends of",
         "orientation": "v",
         "showlegend": true,
         "textposition": "auto",
         "type": "bar",
         "x": [
          "2022 Annual"
         ],
         "xaxis": "x",
         "y": [
          41048.48
         ],
         "yaxis": "y"
        },
        {
         "alignmentgroup": "True",
         "hovertemplate": "Receiving Committee=Walsh, Liz (Elizabeth) Committee to Elect<br>Filing Period=%{x}<br>TotalContribution=%{y}<extra></extra>",
         "legendgroup": "Walsh, Liz (Elizabeth) Committee to Elect",
         "marker": {
          "color": "#EF553B",
          "pattern": {
           "shape": ""
          }
         },
         "name": "Walsh, Liz (Elizabeth) Committee to Elect",
         "offsetgroup": "Walsh, Liz (Elizabeth) Committee to Elect",
         "orientation": "v",
         "showlegend": true,
         "textposition": "auto",
         "type": "bar",
         "x": [
          "2018 Gubernatorial Post-General",
          "2018 Gubernatorial Pre-General1 Report",
          "2018 Gubernatorial Pre-General2 Report",
          "2018 Gubernatorial Pre-Primary1",
          "2018 Gubernatorial Pre-Primary2",
          "2018 Gubernatorial Spring Report",
          "2019 Annual",
          "2020 Annual",
          "2022 Annual"
         ],
         "xaxis": "x",
         "y": [
          7052.43,
          4940.13,
          12644.39,
          3717.87,
          1362.55,
          5698.72,
          312,
          112,
          493
         ],
         "yaxis": "y"
        },
        {
         "alignmentgroup": "True",
         "hovertemplate": "Receiving Committee=Walsh, Liz (Elizabeth) for Howard County<br>Filing Period=%{x}<br>TotalContribution=%{y}<extra></extra>",
         "legendgroup": "Walsh, Liz (Elizabeth) for Howard County",
         "marker": {
          "color": "#00cc96",
          "pattern": {
           "shape": ""
          }
         },
         "name": "Walsh, Liz (Elizabeth) for Howard County",
         "offsetgroup": "Walsh, Liz (Elizabeth) for Howard County",
         "orientation": "v",
         "showlegend": true,
         "textposition": "auto",
         "type": "bar",
         "x": [
          "2022 Gubernatorial Pre-Primary1"
         ],
         "xaxis": "x",
         "y": [
          17294.55
         ],
         "yaxis": "y"
        }
       ],
       "layout": {
        "barmode": "relative",
        "legend": {
         "title": {
          "text": "Receiving Committee"
         },
         "tracegroupgap": 0
        },
        "margin": {
         "t": 60
        },
        "template": {
         "data": {
          "bar": [
           {
            "error_x": {
             "color": "#2a3f5f"
            },
            "error_y": {
             "color": "#2a3f5f"
            },
            "marker": {
             "line": {
              "color": "#E5ECF6",
              "width": 0.5
             },
             "pattern": {
              "fillmode": "overlay",
              "size": 10,
              "solidity": 0.2
             }
            },
            "type": "bar"
           }
          ],
          "barpolar": [
           {
            "marker": {
             "line": {
              "color": "#E5ECF6",
              "width": 0.5
             },
             "pattern": {
              "fillmode": "overlay",
              "size": 10,
              "solidity": 0.2
             }
            },
            "type": "barpolar"
           }
          ],
          "carpet": [
           {
            "aaxis": {
             "endlinecolor": "#2a3f5f",
             "gridcolor": "white",
             "linecolor": "white",
             "minorgridcolor": "white",
             "startlinecolor": "#2a3f5f"
            },
            "baxis": {
             "endlinecolor": "#2a3f5f",
             "gridcolor": "white",
             "linecolor": "white",
             "minorgridcolor": "white",
             "startlinecolor": "#2a3f5f"
            },
            "type": "carpet"
           }
          ],
          "choropleth": [
           {
            "colorbar": {
             "outlinewidth": 0,
             "ticks": ""
            },
            "type": "choropleth"
           }
          ],
          "contour": [
           {
            "colorbar": {
             "outlinewidth": 0,
             "ticks": ""
            },
            "colorscale": [
             [
              0,
              "#0d0887"
             ],
             [
              0.1111111111111111,
              "#46039f"
             ],
             [
              0.2222222222222222,
              "#7201a8"
             ],
             [
              0.3333333333333333,
              "#9c179e"
             ],
             [
              0.4444444444444444,
              "#bd3786"
             ],
             [
              0.5555555555555556,
              "#d8576b"
             ],
             [
              0.6666666666666666,
              "#ed7953"
             ],
             [
              0.7777777777777778,
              "#fb9f3a"
             ],
             [
              0.8888888888888888,
              "#fdca26"
             ],
             [
              1,
              "#f0f921"
             ]
            ],
            "type": "contour"
           }
          ],
          "contourcarpet": [
           {
            "colorbar": {
             "outlinewidth": 0,
             "ticks": ""
            },
            "type": "contourcarpet"
           }
          ],
          "heatmap": [
           {
            "colorbar": {
             "outlinewidth": 0,
             "ticks": ""
            },
            "colorscale": [
             [
              0,
              "#0d0887"
             ],
             [
              0.1111111111111111,
              "#46039f"
             ],
             [
              0.2222222222222222,
              "#7201a8"
             ],
             [
              0.3333333333333333,
              "#9c179e"
             ],
             [
              0.4444444444444444,
              "#bd3786"
             ],
             [
              0.5555555555555556,
              "#d8576b"
             ],
             [
              0.6666666666666666,
              "#ed7953"
             ],
             [
              0.7777777777777778,
              "#fb9f3a"
             ],
             [
              0.8888888888888888,
              "#fdca26"
             ],
             [
              1,
              "#f0f921"
             ]
            ],
            "type": "heatmap"
           }
          ],
          "heatmapgl": [
           {
            "colorbar": {
             "outlinewidth": 0,
             "ticks": ""
            },
            "colorscale": [
             [
              0,
              "#0d0887"
             ],
             [
              0.1111111111111111,
              "#46039f"
             ],
             [
              0.2222222222222222,
              "#7201a8"
             ],
             [
              0.3333333333333333,
              "#9c179e"
             ],
             [
              0.4444444444444444,
              "#bd3786"
             ],
             [
              0.5555555555555556,
              "#d8576b"
             ],
             [
              0.6666666666666666,
              "#ed7953"
             ],
             [
              0.7777777777777778,
              "#fb9f3a"
             ],
             [
              0.8888888888888888,
              "#fdca26"
             ],
             [
              1,
              "#f0f921"
             ]
            ],
            "type": "heatmapgl"
           }
          ],
          "histogram": [
           {
            "marker": {
             "pattern": {
              "fillmode": "overlay",
              "size": 10,
              "solidity": 0.2
             }
            },
            "type": "histogram"
           }
          ],
          "histogram2d": [
           {
            "colorbar": {
             "outlinewidth": 0,
             "ticks": ""
            },
            "colorscale": [
             [
              0,
              "#0d0887"
             ],
             [
              0.1111111111111111,
              "#46039f"
             ],
             [
              0.2222222222222222,
              "#7201a8"
             ],
             [
              0.3333333333333333,
              "#9c179e"
             ],
             [
              0.4444444444444444,
              "#bd3786"
             ],
             [
              0.5555555555555556,
              "#d8576b"
             ],
             [
              0.6666666666666666,
              "#ed7953"
             ],
             [
              0.7777777777777778,
              "#fb9f3a"
             ],
             [
              0.8888888888888888,
              "#fdca26"
             ],
             [
              1,
              "#f0f921"
             ]
            ],
            "type": "histogram2d"
           }
          ],
          "histogram2dcontour": [
           {
            "colorbar": {
             "outlinewidth": 0,
             "ticks": ""
            },
            "colorscale": [
             [
              0,
              "#0d0887"
             ],
             [
              0.1111111111111111,
              "#46039f"
             ],
             [
              0.2222222222222222,
              "#7201a8"
             ],
             [
              0.3333333333333333,
              "#9c179e"
             ],
             [
              0.4444444444444444,
              "#bd3786"
             ],
             [
              0.5555555555555556,
              "#d8576b"
             ],
             [
              0.6666666666666666,
              "#ed7953"
             ],
             [
              0.7777777777777778,
              "#fb9f3a"
             ],
             [
              0.8888888888888888,
              "#fdca26"
             ],
             [
              1,
              "#f0f921"
             ]
            ],
            "type": "histogram2dcontour"
           }
          ],
          "mesh3d": [
           {
            "colorbar": {
             "outlinewidth": 0,
             "ticks": ""
            },
            "type": "mesh3d"
           }
          ],
          "parcoords": [
           {
            "line": {
             "colorbar": {
              "outlinewidth": 0,
              "ticks": ""
             }
            },
            "type": "parcoords"
           }
          ],
          "pie": [
           {
            "automargin": true,
            "type": "pie"
           }
          ],
          "scatter": [
           {
            "marker": {
             "colorbar": {
              "outlinewidth": 0,
              "ticks": ""
             }
            },
            "type": "scatter"
           }
          ],
          "scatter3d": [
           {
            "line": {
             "colorbar": {
              "outlinewidth": 0,
              "ticks": ""
             }
            },
            "marker": {
             "colorbar": {
              "outlinewidth": 0,
              "ticks": ""
             }
            },
            "type": "scatter3d"
           }
          ],
          "scattercarpet": [
           {
            "marker": {
             "colorbar": {
              "outlinewidth": 0,
              "ticks": ""
             }
            },
            "type": "scattercarpet"
           }
          ],
          "scattergeo": [
           {
            "marker": {
             "colorbar": {
              "outlinewidth": 0,
              "ticks": ""
             }
            },
            "type": "scattergeo"
           }
          ],
          "scattergl": [
           {
            "marker": {
             "colorbar": {
              "outlinewidth": 0,
              "ticks": ""
             }
            },
            "type": "scattergl"
           }
          ],
          "scattermapbox": [
           {
            "marker": {
             "colorbar": {
              "outlinewidth": 0,
              "ticks": ""
             }
            },
            "type": "scattermapbox"
           }
          ],
          "scatterpolar": [
           {
            "marker": {
             "colorbar": {
              "outlinewidth": 0,
              "ticks": ""
             }
            },
            "type": "scatterpolar"
           }
          ],
          "scatterpolargl": [
           {
            "marker": {
             "colorbar": {
              "outlinewidth": 0,
              "ticks": ""
             }
            },
            "type": "scatterpolargl"
           }
          ],
          "scatterternary": [
           {
            "marker": {
             "colorbar": {
              "outlinewidth": 0,
              "ticks": ""
             }
            },
            "type": "scatterternary"
           }
          ],
          "surface": [
           {
            "colorbar": {
             "outlinewidth": 0,
             "ticks": ""
            },
            "colorscale": [
             [
              0,
              "#0d0887"
             ],
             [
              0.1111111111111111,
              "#46039f"
             ],
             [
              0.2222222222222222,
              "#7201a8"
             ],
             [
              0.3333333333333333,
              "#9c179e"
             ],
             [
              0.4444444444444444,
              "#bd3786"
             ],
             [
              0.5555555555555556,
              "#d8576b"
             ],
             [
              0.6666666666666666,
              "#ed7953"
             ],
             [
              0.7777777777777778,
              "#fb9f3a"
             ],
             [
              0.8888888888888888,
              "#fdca26"
             ],
             [
              1,
              "#f0f921"
             ]
            ],
            "type": "surface"
           }
          ],
          "table": [
           {
            "cells": {
             "fill": {
              "color": "#EBF0F8"
             },
             "line": {
              "color": "white"
             }
            },
            "header": {
             "fill": {
              "color": "#C8D4E3"
             },
             "line": {
              "color": "white"
             }
            },
            "type": "table"
           }
          ]
         },
         "layout": {
          "annotationdefaults": {
           "arrowcolor": "#2a3f5f",
           "arrowhead": 0,
           "arrowwidth": 1
          },
          "autotypenumbers": "strict",
          "coloraxis": {
           "colorbar": {
            "outlinewidth": 0,
            "ticks": ""
           }
          },
          "colorscale": {
           "diverging": [
            [
             0,
             "#8e0152"
            ],
            [
             0.1,
             "#c51b7d"
            ],
            [
             0.2,
             "#de77ae"
            ],
            [
             0.3,
             "#f1b6da"
            ],
            [
             0.4,
             "#fde0ef"
            ],
            [
             0.5,
             "#f7f7f7"
            ],
            [
             0.6,
             "#e6f5d0"
            ],
            [
             0.7,
             "#b8e186"
            ],
            [
             0.8,
             "#7fbc41"
            ],
            [
             0.9,
             "#4d9221"
            ],
            [
             1,
             "#276419"
            ]
           ],
           "sequential": [
            [
             0,
             "#0d0887"
            ],
            [
             0.1111111111111111,
             "#46039f"
            ],
            [
             0.2222222222222222,
             "#7201a8"
            ],
            [
             0.3333333333333333,
             "#9c179e"
            ],
            [
             0.4444444444444444,
             "#bd3786"
            ],
            [
             0.5555555555555556,
             "#d8576b"
            ],
            [
             0.6666666666666666,
             "#ed7953"
            ],
            [
             0.7777777777777778,
             "#fb9f3a"
            ],
            [
             0.8888888888888888,
             "#fdca26"
            ],
            [
             1,
             "#f0f921"
            ]
           ],
           "sequentialminus": [
            [
             0,
             "#0d0887"
            ],
            [
             0.1111111111111111,
             "#46039f"
            ],
            [
             0.2222222222222222,
             "#7201a8"
            ],
            [
             0.3333333333333333,
             "#9c179e"
            ],
            [
             0.4444444444444444,
             "#bd3786"
            ],
            [
             0.5555555555555556,
             "#d8576b"
            ],
            [
             0.6666666666666666,
             "#ed7953"
            ],
            [
             0.7777777777777778,
             "#fb9f3a"
            ],
            [
             0.8888888888888888,
             "#fdca26"
            ],
            [
             1,
             "#f0f921"
            ]
           ]
          },
          "colorway": [
           "#636efa",
           "#EF553B",
           "#00cc96",
           "#ab63fa",
           "#FFA15A",
           "#19d3f3",
           "#FF6692",
           "#B6E880",
           "#FF97FF",
           "#FECB52"
          ],
          "font": {
           "color": "#2a3f5f"
          },
          "geo": {
           "bgcolor": "white",
           "lakecolor": "white",
           "landcolor": "#E5ECF6",
           "showlakes": true,
           "showland": true,
           "subunitcolor": "white"
          },
          "hoverlabel": {
           "align": "left"
          },
          "hovermode": "closest",
          "mapbox": {
           "style": "light"
          },
          "paper_bgcolor": "white",
          "plot_bgcolor": "#E5ECF6",
          "polar": {
           "angularaxis": {
            "gridcolor": "white",
            "linecolor": "white",
            "ticks": ""
           },
           "bgcolor": "#E5ECF6",
           "radialaxis": {
            "gridcolor": "white",
            "linecolor": "white",
            "ticks": ""
           }
          },
          "scene": {
           "xaxis": {
            "backgroundcolor": "#E5ECF6",
            "gridcolor": "white",
            "gridwidth": 2,
            "linecolor": "white",
            "showbackground": true,
            "ticks": "",
            "zerolinecolor": "white"
           },
           "yaxis": {
            "backgroundcolor": "#E5ECF6",
            "gridcolor": "white",
            "gridwidth": 2,
            "linecolor": "white",
            "showbackground": true,
            "ticks": "",
            "zerolinecolor": "white"
           },
           "zaxis": {
            "backgroundcolor": "#E5ECF6",
            "gridcolor": "white",
            "gridwidth": 2,
            "linecolor": "white",
            "showbackground": true,
            "ticks": "",
            "zerolinecolor": "white"
           }
          },
          "shapedefaults": {
           "line": {
            "color": "#2a3f5f"
           }
          },
          "ternary": {
           "aaxis": {
            "gridcolor": "white",
            "linecolor": "white",
            "ticks": ""
           },
           "baxis": {
            "gridcolor": "white",
            "linecolor": "white",
            "ticks": ""
           },
           "bgcolor": "#E5ECF6",
           "caxis": {
            "gridcolor": "white",
            "linecolor": "white",
            "ticks": ""
           }
          },
          "title": {
           "x": 0.05
          },
          "xaxis": {
           "automargin": true,
           "gridcolor": "white",
           "linecolor": "white",
           "ticks": "",
           "title": {
            "standoff": 15
           },
           "zerolinecolor": "white",
           "zerolinewidth": 2
          },
          "yaxis": {
           "automargin": true,
           "gridcolor": "white",
           "linecolor": "white",
           "ticks": "",
           "title": {
            "standoff": 15
           },
           "zerolinecolor": "white",
           "zerolinewidth": 2
          }
         }
        },
        "xaxis": {
         "anchor": "y",
         "domain": [
          0,
          1
         ],
         "title": {
          "text": "Filing Period"
         }
        },
        "yaxis": {
         "anchor": "x",
         "domain": [
          0,
          1
         ],
         "title": {
          "text": "TotalContribution"
         }
        }
       }
      }
     },
     "metadata": {},
     "output_type": "display_data"
    }
   ],
   "source": [
    "fig"
   ]
  },
  {
   "cell_type": "code",
   "execution_count": 188,
   "id": "cecfaf74",
   "metadata": {},
   "outputs": [],
   "source": [
    "import streamlit as st\n",
    "v=st.columns(3)"
   ]
  },
  {
   "cell_type": "code",
   "execution_count": 189,
   "id": "adceef16",
   "metadata": {},
   "outputs": [
    {
     "data": {
      "text/plain": [
       "DeltaGenerator(_root_container=0, _provided_cursor=None, _parent=None, _block_type=None, _form_data=None)"
      ]
     },
     "execution_count": 189,
     "metadata": {},
     "output_type": "execute_result"
    }
   ],
   "source": [
    "v[0]"
   ]
  },
  {
   "cell_type": "code",
   "execution_count": 221,
   "id": "d18ec319",
   "metadata": {},
   "outputs": [
    {
     "data": {
      "text/plain": [
       "(163, 10)"
      ]
     },
     "execution_count": 221,
     "metadata": {},
     "output_type": "execute_result"
    }
   ],
   "source": [
    "trial_mask = df_master['Receiving Committee']=='Walsh, Liz (Elizabeth) for Howard County'\n",
    "df_master[mask][trial_mask].shape"
   ]
  },
  {
   "cell_type": "code",
   "execution_count": null,
   "id": "f70cf82f",
   "metadata": {},
   "outputs": [],
   "source": []
  }
 ],
 "metadata": {
  "interpreter": {
   "hash": "40d3a090f54c6569ab1632332b64b2c03c39dcf918b08424e98f38b5ae0af88f"
  },
  "kernelspec": {
   "display_name": "Python 3.9.12 ('base')",
   "language": "python",
   "name": "python3"
  },
  "language_info": {
   "codemirror_mode": {
    "name": "ipython",
    "version": 3
   },
   "file_extension": ".py",
   "mimetype": "text/x-python",
   "name": "python",
   "nbconvert_exporter": "python",
   "pygments_lexer": "ipython3",
   "version": "3.9.12"
  }
 },
 "nbformat": 4,
 "nbformat_minor": 5
}
